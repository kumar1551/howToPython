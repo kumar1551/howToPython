{
 "cells": [
  {
   "cell_type": "markdown",
   "metadata": {},
   "source": [
    "# Working with RSS feed in python"
   ]
  },
  {
   "cell_type": "code",
   "execution_count": 1,
   "metadata": {},
   "outputs": [],
   "source": [
    "import feedparser"
   ]
  },
  {
   "cell_type": "code",
   "execution_count": 24,
   "metadata": {},
   "outputs": [],
   "source": [
    "blog_feed = feedparser.parse(\"https://publications.iamroyakash.com/rss.xml\")"
   ]
  },
  {
   "cell_type": "code",
   "execution_count": 25,
   "metadata": {},
   "outputs": [],
   "source": [
    "# The items are available in feed.entries, which is a list.\n",
    "# You access items in the list in the same order in which they appear in the original feed, so the first item is available in feed.entries[0]."
   ]
  },
  {
   "cell_type": "code",
   "execution_count": 26,
   "metadata": {},
   "outputs": [
    {
     "data": {
      "text/plain": [
       "feedparser.util.FeedParserDict"
      ]
     },
     "execution_count": 26,
     "metadata": {},
     "output_type": "execute_result"
    }
   ],
   "source": [
    "type(blog_feed)"
   ]
  },
  {
   "cell_type": "code",
   "execution_count": 27,
   "metadata": {},
   "outputs": [
    {
     "data": {
      "text/plain": [
       "(list,\n",
       " 'Computer scientist theroyakash researches computer vision and artificial intelligence. This is the publication from theroyakash.')"
      ]
     },
     "execution_count": 27,
     "metadata": {},
     "output_type": "execute_result"
    }
   ],
   "source": [
    "type(blog_feed.entries), blog_feed.feed.subtitle"
   ]
  },
  {
   "cell_type": "code",
   "execution_count": 28,
   "metadata": {},
   "outputs": [
    {
     "data": {
      "text/plain": [
       "(10, 7, 7)"
      ]
     },
     "execution_count": 28,
     "metadata": {},
     "output_type": "execute_result"
    }
   ],
   "source": [
    "len(blog_feed), len(blog_feed.entries), len(blog_feed['entries'])"
   ]
  },
  {
   "cell_type": "code",
   "execution_count": 29,
   "metadata": {},
   "outputs": [
    {
     "data": {
      "text/plain": [
       "('theroyakash publications', 'theroyakash publications')"
      ]
     },
     "execution_count": 29,
     "metadata": {},
     "output_type": "execute_result"
    }
   ],
   "source": [
    "blog_feed['feed']['title'], blog_feed.feed.title"
   ]
  },
  {
   "cell_type": "code",
   "execution_count": 30,
   "metadata": {},
   "outputs": [
    {
     "data": {
      "text/plain": [
       "('https://publications.iamroyakash.com',\n",
       " 'https://publications.iamroyakash.com',\n",
       " 'rss20')"
      ]
     },
     "execution_count": 30,
     "metadata": {},
     "output_type": "execute_result"
    }
   ],
   "source": [
    "blog_feed['feed']['link'], blog_feed.feed.link, blog_feed.version"
   ]
  },
  {
   "cell_type": "code",
   "execution_count": 46,
   "metadata": {},
   "outputs": [
    {
     "name": "stdout",
     "output_type": "stream",
     "text": [
      "Welcome to theroyakash Publication\n",
      "https://publications.iamroyakash.com/welcome\n",
      "theroyakash\n",
      "Sun, 04 Oct 2020 04:06:06 GMT\n"
     ]
    }
   ],
   "source": [
    "print(blog_feed.entries[6].title)\n",
    "print(blog_feed.entries[6].link)\n",
    "print(blog_feed.entries[6].author)\n",
    "print(blog_feed.entries[6].published)"
   ]
  },
  {
   "cell_type": "code",
   "execution_count": 32,
   "metadata": {},
   "outputs": [
    {
     "name": "stdout",
     "output_type": "stream",
     "text": [
      "[{'term': 'Python', 'scheme': None, 'label': None}, {'term': 'caching', 'scheme': None, 'label': None}, {'term': 'speed', 'scheme': None, 'label': None}, {'term': 'life-hack', 'scheme': None, 'label': None}, {'term': 'Christmas Hackathon', 'scheme': None, 'label': None}]\n"
     ]
    }
   ],
   "source": [
    "print(blog_feed.entries[0].tags)"
   ]
  },
  {
   "cell_type": "code",
   "execution_count": 61,
   "metadata": {},
   "outputs": [
    {
     "data": {
      "text/plain": [
       "False"
      ]
     },
     "execution_count": 61,
     "metadata": {},
     "output_type": "execute_result"
    }
   ],
   "source": [
    "'tags' in blog_feed.entries[6]"
   ]
  },
  {
   "cell_type": "code",
   "execution_count": 34,
   "metadata": {},
   "outputs": [
    {
     "name": "stdout",
     "output_type": "stream",
     "text": [
      "Let's say you have a function that is a super-slow function. Not sure how you can find which is a super slow function? Measure it with this.\n",
      "Now there is now way you can optimize the function, what you can do instead is that you can store results fro...\n"
     ]
    }
   ],
   "source": [
    "print(blog_feed.entries[0].summary)"
   ]
  },
  {
   "cell_type": "code",
   "execution_count": 36,
   "metadata": {},
   "outputs": [
    {
     "name": "stdout",
     "output_type": "stream",
     "text": [
      "https://publications.iamroyakash.com/rss.xml\n"
     ]
    }
   ],
   "source": [
    "print(blog_feed.entries[0].title_detail.base)"
   ]
  },
  {
   "cell_type": "code",
   "execution_count": 37,
   "metadata": {},
   "outputs": [
    {
     "name": "stdout",
     "output_type": "stream",
     "text": [
      "Python\n"
     ]
    }
   ],
   "source": [
    "print(blog_feed.entries[0].tags[0].term)"
   ]
  },
  {
   "cell_type": "code",
   "execution_count": 38,
   "metadata": {},
   "outputs": [
    {
     "name": "stdout",
     "output_type": "stream",
     "text": [
      "['theroyakash']\n"
     ]
    }
   ],
   "source": [
    "authors = [author.name for author in blog_feed.entries[0].authors]\n",
    "print(authors)"
   ]
  },
  {
   "cell_type": "code",
   "execution_count": 47,
   "metadata": {},
   "outputs": [],
   "source": [
    "posts = blog_feed.entries\n",
    "posts_details = []\n",
    "for post in posts:\n",
    "    temp = dict()\n",
    "    try:\n",
    "        temp['title'] =post.title\n",
    "        temp['link'] =post.link\n",
    "        temp['author'] =post.author\n",
    "        temp['time_published'] = post.published\n",
    "        temp['tags'] = [tag.term for tag in post.tags]\n",
    "        temp['authors'] = [author.name for author in post.authors]\n",
    "    except:\n",
    "        pass\n",
    "    posts_details.append(temp)\n"
   ]
  },
  {
   "cell_type": "code",
   "execution_count": 53,
   "metadata": {},
   "outputs": [],
   "source": [
    "def get_posts_details(rss=None):\n",
    "    \"\"\"\n",
    "    Take link of rss feed as argument\n",
    "    \"\"\"\n",
    "    if rss is not None:\n",
    "        import feedparser\n",
    "        blog_feed = blog_feed = feedparser.parse(rss)\n",
    "\n",
    "        posts = blog_feed.entries\n",
    "        posts_details = {\"Blog title\" : blog_feed.feed.title,\n",
    "                        \"Blog link\" : blog_feed.feed.link}\n",
    "        post_list = []\n",
    "        for post in posts:\n",
    "            temp = dict()\n",
    "            try:\n",
    "                temp[\"title\"] =post.title\n",
    "                temp[\"link\"] =post.link\n",
    "                temp[\"author\"] =post.author\n",
    "                temp[\"time_published\"] = post.published\n",
    "                temp[\"summary\"] = post.summary\n",
    "                temp[\"tags\"] = [tag.term for tag in post.tags]\n",
    "                temp[\"authors\"] = [author.name for author in post.authors]\n",
    "            except:\n",
    "                pass\n",
    "            post_list.append(temp)\n",
    "        posts_details[\"posts\"] = post_list\n",
    "        return posts_details\n",
    "    else:\n",
    "        return None"
   ]
  },
  {
   "cell_type": "code",
   "execution_count": 54,
   "metadata": {},
   "outputs": [
    {
     "name": "stdout",
     "output_type": "stream",
     "text": [
      "{\n",
      "  \"Blog title\": \"theroyakash publications\",\n",
      "  \"Blog link\": \"https://publications.iamroyakash.com\",\n",
      "  \"posts\": [\n",
      "    {\n",
      "      \"title\": \"Speed up your python code by caching\",\n",
      "      \"link\": \"https://publications.iamroyakash.com/cache-your-code\",\n",
      "      \"author\": \"theroyakash\",\n",
      "      \"time_published\": \"Sat, 26 Dec 2020 09:32:36 GMT\",\n",
      "      \"summary\": \"Let's say you have a function that is a super-slow function. Not sure how you can find which is a super slow function? Measure it with this.\\nNow there is now way you can optimize the function, what you can do instead is that you can store results fro...\",\n",
      "      \"tags\": [\n",
      "        \"Python\",\n",
      "        \"caching\",\n",
      "        \"speed\",\n",
      "        \"life-hack\",\n",
      "        \"Christmas Hackathon\"\n",
      "      ],\n",
      "      \"authors\": [\n",
      "        \"theroyakash\"\n",
      "      ]\n",
      "    },\n",
      "    {\n",
      "      \"title\": \"How to benchmark your python program?\",\n",
      "      \"link\": \"https://publications.iamroyakash.com/benchmark-your-python-program\",\n",
      "      \"author\": \"theroyakash\",\n",
      "      \"time_published\": \"Sat, 21 Nov 2020 09:21:51 GMT\",\n",
      "      \"summary\": \"Let's say you have a really slow program and you want to benchmark where your program is taking most of the time to run. If you can find that you can just optimize that part of the program to run faster.\\nThere is couple of way of doing this going thr...\",\n",
      "      \"tags\": [\n",
      "        \"Python 3\",\n",
      "        \"Python\",\n",
      "        \"Benchmark\",\n",
      "        \"algorithms\",\n",
      "        \"life-hack\"\n",
      "      ],\n",
      "      \"authors\": [\n",
      "        \"theroyakash\"\n",
      "      ]\n",
      "    },\n",
      "    {\n",
      "      \"title\": \"What is logarithms in time complexity means?\",\n",
      "      \"link\": \"https://publications.iamroyakash.com/log-time-complexity\",\n",
      "      \"author\": \"theroyakash\",\n",
      "      \"time_published\": \"Sat, 14 Nov 2020 05:38:27 GMT\",\n",
      "      \"summary\": \"If we talk about some sorting algorithms we'll see their running time is in the order of \\\\(O(n log(n))\\\\) time. In this article we'll talk why logarithm time is useful and how it's working?\\nLet's imagine the following task\\nfor i in range(10):\\n    prin...\",\n",
      "      \"tags\": [\n",
      "        \"algorithms\",\n",
      "        \"Python 3\"\n",
      "      ],\n",
      "      \"authors\": [\n",
      "        \"theroyakash\"\n",
      "      ]\n",
      "    },\n",
      "    {\n",
      "      \"title\": \"4 Line python-based URL shortener\",\n",
      "      \"link\": \"https://publications.iamroyakash.com/4-line-urlshortener\",\n",
      "      \"author\": \"theroyakash\",\n",
      "      \"time_published\": \"Mon, 02 Nov 2020 20:43:25 GMT\",\n",
      "      \"summary\": \"Let's build an URL shortener with just 4 lines of code. I'll keep it as simple as possible.\\nInspiration\\nI was building a discord BOT that has the feature of sending top news article in a given hour, but the URLs were too long so it was looking bad in...\",\n",
      "      \"tags\": [\n",
      "        \"Python 3\",\n",
      "        \"Python\",\n",
      "        \"python beginner\",\n",
      "        \"python projects\"\n",
      "      ],\n",
      "      \"authors\": [\n",
      "        \"theroyakash\"\n",
      "      ]\n",
      "    },\n",
      "    {\n",
      "      \"title\": \"Popular Activation Functions & Implementation\",\n",
      "      \"link\": \"https://publications.iamroyakash.com/popular-activation-functions-and-implementation\",\n",
      "      \"author\": \"theroyakash\",\n",
      "      \"time_published\": \"Thu, 22 Oct 2020 17:09:31 GMT\",\n",
      "      \"summary\": \"Here in this post we'll be implementing popular deep learning activation functions from the ground up using numpy.\\nSo for you to follow this post you need to things:\\n\\nnumpy and\\nSome free time of yours.\\n\\nIf you have written any deep learning code befo...\",\n",
      "      \"tags\": [\n",
      "        \"Deep Learning\",\n",
      "        \"numpy\",\n",
      "        \"Python 3\",\n",
      "        \"Machine Learning\",\n",
      "        \"neural networks\"\n",
      "      ],\n",
      "      \"authors\": [\n",
      "        \"theroyakash\"\n",
      "      ]\n",
      "    },\n",
      "    {\n",
      "      \"title\": \"What is PyTorch .detach() method?\",\n",
      "      \"link\": \"https://publications.iamroyakash.com/pytorch-detach\",\n",
      "      \"author\": \"theroyakash\",\n",
      "      \"time_published\": \"Thu, 22 Oct 2020 15:25:49 GMT\",\n",
      "      \"summary\": \"What is PyTorch .detach() method?\\nPyTorch's detach method works on the tensor class. \\ntensor.detach() creates a tensor that shares storage with tensor that does not require gradient. tensor.clone() creates a copy of tensor that imitates the original ...\",\n",
      "      \"tags\": [\n",
      "        \"Python 3\",\n",
      "        \"pytorch\",\n",
      "        \"Deep Learning\",\n",
      "        \"Machine Learning\"\n",
      "      ],\n",
      "      \"authors\": [\n",
      "        \"theroyakash\"\n",
      "      ]\n",
      "    },\n",
      "    {\n",
      "      \"title\": \"Welcome to theroyakash Publication\",\n",
      "      \"link\": \"https://publications.iamroyakash.com/welcome\",\n",
      "      \"author\": \"theroyakash\",\n",
      "      \"time_published\": \"Sun, 04 Oct 2020 04:06:06 GMT\",\n",
      "      \"summary\": \"Welcome to theroyakash publication, here you\\u2019ll get the latest in publications from theroyakash on whatever I'm working on. I also have a subreddit for announcement purposes & I have a discord server. Join and connect with me there. Cool researches, ...\"\n",
      "    }\n",
      "  ]\n",
      "}\n"
     ]
    }
   ],
   "source": [
    "blog_rss = \"https://publications.iamroyakash.com/rss.xml\"\n",
    "\n",
    "data = get_posts_details(rss = blog_rss)\n",
    "\n",
    "import json\n",
    "print(json.dumps(data, indent=2))"
   ]
  },
  {
   "cell_type": "code",
   "execution_count": 22,
   "metadata": {},
   "outputs": [
    {
     "data": {
      "text/plain": [
       "'rss20'"
      ]
     },
     "execution_count": 22,
     "metadata": {},
     "output_type": "execute_result"
    }
   ],
   "source": [
    "blog_feed.version"
   ]
  },
  {
   "cell_type": "markdown",
   "metadata": {},
   "source": [
    "# BLOG"
   ]
  },
  {
   "cell_type": "markdown",
   "metadata": {},
   "source": [
    "In article, we will be seeing how extract feed and posts details using RSS feed for a hashnode blog. Although we are going to use it for blogs on hashnode it can be used for other feeds as well\n",
    "\n",
    "### What is RSS?\n",
    "\n",
    "RSS stands for Rich Site Summary or Really Simple Syndication and uses standard web feed formats to publish\n",
    "frequently updated information: blog entries, news headlines, audio, video.\n",
    "\n",
    "An RSS document (called “feed”, “web feed”, or “channel”) includes full or\n",
    "summarized text, and metadata, like publishing date and author’s name.\n",
    "\n",
    "With RSS it is possible to distribute up-to-date web content from one web site to thousands of other web sites around the world.\n",
    "\n",
    "It is written in XML.\n",
    "\n",
    "The most commonly used elements in RSS feeds are “title”, “link”, “description”,\n",
    "“publication date”, and “entry ID”.\n",
    "\n",
    "The less commonnly used elements are “image”, “categories”, “enclosures”\n",
    "and “cloud”.\n",
    "\n",
    "### Why use RSS?\n",
    "RSS was designed to show selected data.\n",
    "\n",
    "Without RSS, users will have to check your site daily for new updates. This may be too time-consuming for many users. With an RSS feed (RSS is often called a News feed or RSS feed) they can check your site faster using an RSS aggregator (a site or program that gathers and sorts out RSS feeds).\n",
    "\n",
    "### Parsing feeds with Feedparser\n",
    "Feedparser is a Python library that parses feeds in all known formats, including\n",
    "Atom, RSS, and RDF.\n",
    "\n",
    "### Installing feed parser\n",
    "\n",
    "```\n",
    "pip install feedparser\n",
    "```\n",
    "\n",
    "### getting rss feed\n",
    "\n",
    "```\n",
    "blog_feed = feedparser.parse(\"https://vaibhavkumar.hashnode.dev/rss.xml\")\n",
    "```\n",
    "\n",
    "#### title of feed\n",
    "```\n",
    "blog_feed.feed.title\n",
    "```\n",
    "\n",
    "#### link of feed\n",
    "\n",
    "```\n",
    "blog_feed.feed.link\n",
    "```\n",
    "\n",
    "#### number of posts/entries\n",
    "```\n",
    "len(blog_feed.entries)\n",
    "```\n",
    "Each entry in the feed is a dictionary. Use [0] to print the first entry.\n",
    "\n",
    "```\n",
    "print(blog_feed.entries[0].title)\n",
    "print(blog_feed.entries[0].link)\n",
    "print(blog_feed.entries[0].author)\n",
    "print(blog_feed.entries[0].published)\n",
    "```\n",
    "\n",
    "gettings tags and authors\n",
    "\n",
    "```\n",
    "tags = [tag.term for tag in blog_feed.entries[0].tags]\n",
    "authors= [author.name for author in blog_feed.entries[0].authors]\n",
    "```\n",
    "\n",
    "Other attributes\n",
    "```\n",
    "blog_feed.version\n",
    "blog_feed.header\n",
    "blog_feed.header.get('content-type)\n",
    "```\n",
    "\n",
    "### Putting it together\n",
    "Now use the above code to write a function which takes link of RSS feed and return the details.\n",
    "\n",
    "\n",
    "```\n",
    "def get_posts_details(rss=None):\n",
    "    \"\"\"\n",
    "    Take link of rss feed as argument\n",
    "    \"\"\"\n",
    "    if rss is not None:\n",
    "        import feedparser\n",
    "        blog_feed = blog_feed = feedparser.parse(rss)\n",
    "\n",
    "        posts = blog_feed.entries\n",
    "        posts_details = {\"Blog title\" : blog_feed.feed.title,\n",
    "                        \"Blog link\" : blog_feed.feed.link}\n",
    "        post_list = []\n",
    "        for post in posts:\n",
    "            temp = dict()\n",
    "            temp[\"title\"] =post.title\n",
    "            temp[\"link\"] =post.link\n",
    "            temp[\"author\"] =post.author\n",
    "            temp[\"time_published\"] = post.published\n",
    "            temp[\"tags\"] = [tag.term for tag in post.tags]\n",
    "            temp[\"authors\"] = [author.name for author in post.authors]\n",
    "            temp[\"summary\"] = post.summary\n",
    "            post_list.append(temp)\n",
    "        posts_details[\"posts\"] = post_list\n",
    "        return posts_details\n",
    "    else:\n",
    "        return None\n",
    "```\n",
    "\n",
    "Output:\n",
    "```\n",
    "import json\n",
    "\n",
    "blog_rss = \"https://vaibhavkumar.hashnode.dev/rss.xml\"\n",
    "\n",
    "data = get_posts_details(rss = blog_rss)\n",
    "\n",
    "print(json.dumps(data, indent=2))\n",
    "```\n",
    "\n",
    "Using this one can quickly get the posts lists, links and other details. Also once we have all the posts links, we can crawl them one by one and scraping details like number of likes, comments on each individual posts.\n",
    "\n",
    "Also, we can use this to expose the details via JSON based APIs.\n",
    "\n",
    "Try it, with your own blog's RSS feed link.\n",
    "\n",
    "Thanks for reading. Do give your suggestions and feedback down in the comments."
   ]
  },
  {
   "cell_type": "code",
   "execution_count": null,
   "metadata": {},
   "outputs": [],
   "source": []
  },
  {
   "cell_type": "code",
   "execution_count": null,
   "metadata": {},
   "outputs": [],
   "source": []
  },
  {
   "cell_type": "code",
   "execution_count": null,
   "metadata": {},
   "outputs": [],
   "source": []
  },
  {
   "cell_type": "code",
   "execution_count": null,
   "metadata": {},
   "outputs": [],
   "source": []
  },
  {
   "cell_type": "code",
   "execution_count": null,
   "metadata": {},
   "outputs": [],
   "source": []
  },
  {
   "cell_type": "code",
   "execution_count": null,
   "metadata": {},
   "outputs": [],
   "source": []
  },
  {
   "cell_type": "code",
   "execution_count": null,
   "metadata": {},
   "outputs": [],
   "source": []
  },
  {
   "cell_type": "code",
   "execution_count": null,
   "metadata": {},
   "outputs": [],
   "source": []
  },
  {
   "cell_type": "code",
   "execution_count": null,
   "metadata": {},
   "outputs": [],
   "source": []
  },
  {
   "cell_type": "code",
   "execution_count": null,
   "metadata": {},
   "outputs": [],
   "source": []
  },
  {
   "cell_type": "code",
   "execution_count": null,
   "metadata": {},
   "outputs": [],
   "source": []
  },
  {
   "cell_type": "code",
   "execution_count": null,
   "metadata": {},
   "outputs": [],
   "source": []
  }
 ],
 "metadata": {
  "kernelspec": {
   "display_name": "Python 3",
   "language": "python",
   "name": "python3"
  },
  "language_info": {
   "codemirror_mode": {
    "name": "ipython",
    "version": 3
   },
   "file_extension": ".py",
   "mimetype": "text/x-python",
   "name": "python",
   "nbconvert_exporter": "python",
   "pygments_lexer": "ipython3",
   "version": "3.8.3"
  }
 },
 "nbformat": 4,
 "nbformat_minor": 4
}
