{
 "cells": [
  {
   "cell_type": "code",
   "execution_count": 1,
   "metadata": {},
   "outputs": [],
   "source": [
    "from requests_html import HTML"
   ]
  },
  {
   "cell_type": "code",
   "execution_count": 2,
   "metadata": {},
   "outputs": [],
   "source": [
    "with open('hackerrank.html') as html_file:\n",
    "    src = html_file.read()\n",
    "    html = HTML(html=src)"
   ]
  },
  {
   "cell_type": "code",
   "execution_count": 3,
   "metadata": {},
   "outputs": [
    {
     "name": "stdout",
     "output_type": "stream",
     "text": [
      "<class 'str'>\n"
     ]
    }
   ],
   "source": [
    "print(type(html.html))"
   ]
  },
  {
   "cell_type": "code",
   "execution_count": 4,
   "metadata": {},
   "outputs": [
    {
     "name": "stdout",
     "output_type": "stream",
     "text": [
      "[]\n"
     ]
    }
   ],
   "source": [
    "match = html.find('title') # finding via css-selectors\n",
    "print(match)"
   ]
  },
  {
   "cell_type": "code",
   "execution_count": 5,
   "metadata": {},
   "outputs": [
    {
     "data": {
      "text/plain": [
       "\"\\n\\n\\na.'challenge-list-item' \\n> div.challenge-name-details \\n> h4.challengecard-title - \\n> div.card-details\\n> span.difficulty.detail-item -\\n> span.skill.detail-item - \\n> span.max-score.detail-item -\\n> span.success-ratio.detail-item -\\n\\n\""
      ]
     },
     "execution_count": 5,
     "metadata": {},
     "output_type": "execute_result"
    }
   ],
   "source": [
    "'''\n",
    "\n",
    "\n",
    "a.'challenge-list-item' \n",
    "> div.challenge-name-details \n",
    "> h4.challengecard-title - \n",
    "> div.card-details\n",
    "> span.difficulty.detail-item -\n",
    "> span.skill.detail-item - \n",
    "> span.max-score.detail-item -\n",
    "> span.success-ratio.detail-item -\n",
    "\n",
    "'''\n",
    "\n",
    "\n",
    "\n"
   ]
  },
  {
   "cell_type": "code",
   "execution_count": 6,
   "metadata": {},
   "outputs": [],
   "source": [
    "challenges = html.find('a.challenge-list-item')"
   ]
  },
  {
   "cell_type": "code",
   "execution_count": 7,
   "metadata": {},
   "outputs": [
    {
     "data": {
      "text/plain": [
       "(requests_html.Element, 100)"
      ]
     },
     "execution_count": 7,
     "metadata": {},
     "output_type": "execute_result"
    }
   ],
   "source": [
    "type(challenges[92]), len(challenges)"
   ]
  },
  {
   "cell_type": "code",
   "execution_count": 8,
   "metadata": {},
   "outputs": [
    {
     "name": "stdout",
     "output_type": "stream",
     "text": [
      "https://www.hackerrank.com/challenges/tower-breakers-1\n",
      "Tower Breakers\n",
      "Easy\n",
      "\n",
      "15\n",
      "86.75%\n"
     ]
    }
   ],
   "source": [
    "root = \"https://www.hackerrank.com\"\n",
    "\n",
    "link = root + challenges[92].attrs['href']\n",
    "title = challenges[92].find('h4.challengecard-title', first=True).text.split('\\n')[0]\n",
    "difficulty = challenges[92].find('span.difficulty', first=True).text\n",
    "skill = challenges[92].find('span.skill', first=True).text if challenges[92].find('span.skill', first=True) else ''\n",
    "max_score = int(challenges[92].find('span.max-score', first=True).text.split(' ')[-1])\n",
    "success_rate = challenges[92].find('span.success-ratio', first=True).text.split(' ')[-1]\n",
    "\n",
    "\n",
    "print(link)\n",
    "print(title)\n",
    "print(difficulty)\n",
    "print(skill)\n",
    "print(max_score)\n",
    "print(success_rate)"
   ]
  },
  {
   "cell_type": "code",
   "execution_count": 9,
   "metadata": {},
   "outputs": [],
   "source": [
    "root = \"https://www.hackerrank.com\"\n",
    "\n",
    "problems = []\n",
    "\n",
    "for challenge in challenges:\n",
    "    item = {\n",
    "        'link' : (root + challenge.attrs['href'])  if challenge.attrs['href'] else \"\",\n",
    "        \n",
    "        'title' : (challenge.find('h4.challengecard-title', first=True).text.split('\\n')[0])  if challenge.find('h4.challengecard-title', first=True) else \"\",\n",
    "        \n",
    "        'difficulty' : (challenge.find('span.difficulty', first=True).text)  if challenge.find('span.difficulty', first=True) else \"\",\n",
    "        \n",
    "        'skill' : (challenge.find('span.skill', first=True).text)  if challenge.find('span.skill', first=True) else \"\",\n",
    "        \n",
    "        'max_score' : (int(challenge.find('span.max-score', first=True).text.split(' ')[-1]))  if challenge.find('span.max-score', first=True) else \"\",\n",
    "        \n",
    "        'success_ratio ' : (challenge.find('span.success-ratio', first=True).text.split(' ')[-1])  if challenge.find('span.success-ratio', first=True) else \"\"\n",
    "    }\n",
    "    \n",
    "    problems.append(item)"
   ]
  },
  {
   "cell_type": "code",
   "execution_count": 10,
   "metadata": {},
   "outputs": [
    {
     "name": "stdout",
     "output_type": "stream",
     "text": [
      "{\n",
      "  \"link\": \"https://www.hackerrank.com/challenges/migratory-birds\",\n",
      "  \"title\": \"Migratory Birds\",\n",
      "  \"difficulty\": \"Easy\",\n",
      "  \"skill\": \"Problem Solving (Basic)\",\n",
      "  \"max_score\": 10,\n",
      "  \"success_ratio \": \"91.24%\"\n",
      "}\n"
     ]
    }
   ],
   "source": [
    "from pprint import pprint\n",
    "import json\n",
    "print(json.dumps(problems[0], indent=2))"
   ]
  },
  {
   "cell_type": "code",
   "execution_count": 11,
   "metadata": {},
   "outputs": [],
   "source": [
    "def problems_with(marks=10, print_=False):\n",
    "    list_ = [(problem['title'], problem['link']) for problem in problems if problem['max_score'] == marks]\n",
    "    \n",
    "    if print_:\n",
    "        print(f\"{ len(list_) } problems with {marks} marks | total marks = { len(list_) * marks }\")\n",
    "        print()\n",
    "        for item in list_:\n",
    "            print(item)\n",
    "    else:\n",
    "        return list_"
   ]
  },
  {
   "cell_type": "code",
   "execution_count": 12,
   "metadata": {},
   "outputs": [
    {
     "name": "stdout",
     "output_type": "stream",
     "text": [
      "6 problems with 10 marks | total marks = 60\n",
      "19 problems with 15 marks | total marks = 285\n",
      "31 problems with 20 marks | total marks = 620\n",
      "16 problems with 25 marks | total marks = 400\n",
      "20 problems with 30 marks | total marks = 600\n",
      "3 problems with 35 marks | total marks = 105\n",
      "4 problems with 40 marks | total marks = 160\n",
      "1 problems with 45 marks | total marks = 45\n",
      "0 problems with 50 marks | total marks = 0\n",
      "0 problems with 55 marks | total marks = 0\n",
      "0 problems with 66 marks | total marks = 0\n"
     ]
    }
   ],
   "source": [
    "mList=[10, 15, 20, 25, 30, 35, 40, 45, 50, 55, 66]\n",
    "\n",
    "for marks in mList:\n",
    "    print(f\"{ len(problems_with(marks=marks)) } problems with {marks} marks | total marks = { len(problems_with(marks=marks)) * marks }\")\n"
   ]
  },
  {
   "cell_type": "code",
   "execution_count": 18,
   "metadata": {},
   "outputs": [
    {
     "name": "stdout",
     "output_type": "stream",
     "text": [
      "31 problems with 20 marks | total marks = 620\n",
      "\n",
      "('Picking Numbers', 'https://www.hackerrank.com/challenges/picking-numbers')\n",
      "('Utopian Tree', 'https://www.hackerrank.com/challenges/utopian-tree')\n",
      "('Angry Professor', 'https://www.hackerrank.com/challenges/angry-professor')\n",
      "('Circular Array Rotation', 'https://www.hackerrank.com/challenges/circular-array-rotation')\n",
      "('Sequence Equation', 'https://www.hackerrank.com/challenges/permutation-equation')\n",
      "('Append and Delete', 'https://www.hackerrank.com/challenges/append-and-delete')\n",
      "('Sherlock and Squares', 'https://www.hackerrank.com/challenges/sherlock-and-squares')\n",
      "('Repeated String', 'https://www.hackerrank.com/challenges/repeated-string')\n",
      "('Jumping on the Clouds', 'https://www.hackerrank.com/challenges/jumping-on-the-clouds')\n",
      "('Equalize the Array', 'https://www.hackerrank.com/challenges/equality-in-a-array')\n",
      "('Beautiful Triplets', 'https://www.hackerrank.com/challenges/beautiful-triplets')\n",
      "('Minimum Distances', 'https://www.hackerrank.com/challenges/minimum-distances')\n",
      "('Halloween Sale', 'https://www.hackerrank.com/challenges/halloween-sale')\n",
      "('Service Lane', 'https://www.hackerrank.com/challenges/service-lane')\n",
      "('Big Sorting', 'https://www.hackerrank.com/challenges/big-sorting')\n",
      "('Two Characters', 'https://www.hackerrank.com/challenges/two-characters')\n",
      "('HackerRank in a String!', 'https://www.hackerrank.com/challenges/hackerrank-in-a-string')\n",
      "('Pangrams', 'https://www.hackerrank.com/challenges/pangrams')\n",
      "('Weighted Uniform Strings', 'https://www.hackerrank.com/challenges/weighted-uniform-string')\n",
      "('Separate the Numbers', 'https://www.hackerrank.com/challenges/separate-the-numbers')\n",
      "('Gemstones', 'https://www.hackerrank.com/challenges/gem-stones')\n",
      "('Alternating Characters', 'https://www.hackerrank.com/challenges/alternating-characters')\n",
      "('Beautiful Binary String', 'https://www.hackerrank.com/challenges/beautiful-binary-string')\n",
      "('The Love-Letter Mystery', 'https://www.hackerrank.com/challenges/the-love-letter-mystery')\n",
      "('Grid Challenge', 'https://www.hackerrank.com/challenges/grid-challenge')\n",
      "('Luck Balance', 'https://www.hackerrank.com/challenges/luck-balance')\n",
      "('Maximum Perimeter Triangle', 'https://www.hackerrank.com/challenges/maximum-perimeter-triangle')\n",
      "('Lonely Integer', 'https://www.hackerrank.com/challenges/lonely-integer')\n",
      "('MisÃ¨re Nim', 'https://www.hackerrank.com/challenges/misere-nim-1')\n",
      "('Nimble Game', 'https://www.hackerrank.com/challenges/nimble-game-1')\n",
      "('Poker Nim', 'https://www.hackerrank.com/challenges/poker-nim-1')\n"
     ]
    }
   ],
   "source": [
    "problems_with(marks=20, print_=True)"
   ]
  },
  {
   "cell_type": "code",
   "execution_count": null,
   "metadata": {},
   "outputs": [],
   "source": []
  },
  {
   "cell_type": "code",
   "execution_count": null,
   "metadata": {},
   "outputs": [],
   "source": []
  }
 ],
 "metadata": {
  "kernelspec": {
   "display_name": "Python 3",
   "language": "python",
   "name": "python3"
  },
  "language_info": {
   "codemirror_mode": {
    "name": "ipython",
    "version": 3
   },
   "file_extension": ".py",
   "mimetype": "text/x-python",
   "name": "python",
   "nbconvert_exporter": "python",
   "pygments_lexer": "ipython3",
   "version": "3.8.3"
  }
 },
 "nbformat": 4,
 "nbformat_minor": 4
}
