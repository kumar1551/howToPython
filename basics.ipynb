{
 "cells": [
  {
   "cell_type": "markdown",
   "metadata": {},
   "source": [
    "# dictionary"
   ]
  },
  {
   "cell_type": "code",
   "execution_count": 1,
   "metadata": {},
   "outputs": [],
   "source": [
    "my_cat = {\n",
    "    'size': 'fat',\n",
    "    'color': 'grey',\n",
    "    'disposition': 'loud'\n",
    "}"
   ]
  },
  {
   "cell_type": "code",
   "execution_count": 2,
   "metadata": {},
   "outputs": [],
   "source": [
    "birthdays = {'ALice': 'Apr 1', 'Bob': 'Dec 12', 'Carol': 'Mar4'}\n",
    "\n",
    "# name='Vaibhav'\n",
    "\n",
    "# if name in birthdays:\n",
    "#     print(birthdays[name] + ' is the birthday of ' + name)\n",
    "# else:\n",
    "#     print('No Info. for ' + name)\n",
    "#     print('What is their birthday? ')\n",
    "#     bday = input()\n",
    "#     birthdays[name] = bday\n",
    "#     print('DB updated')\n",
    "# print(birthdays)"
   ]
  },
  {
   "cell_type": "code",
   "execution_count": 3,
   "metadata": {},
   "outputs": [
    {
     "data": {
      "text/plain": [
       "(dict_keys(['ALice', 'Bob', 'Carol']),\n",
       " dict_items([('ALice', 'Apr 1'), ('Bob', 'Dec 12'), ('Carol', 'Mar4')]),\n",
       " dict_values(['Apr 1', 'Dec 12', 'Mar4']))"
      ]
     },
     "execution_count": 3,
     "metadata": {},
     "output_type": "execute_result"
    }
   ],
   "source": [
    "# keys, values and items\n",
    "birthdays.keys(), birthdays.items(), birthdays.values()"
   ]
  },
  {
   "cell_type": "code",
   "execution_count": 4,
   "metadata": {},
   "outputs": [
    {
     "name": "stdout",
     "output_type": "stream",
     "text": [
      "Name: ALice, Bday: Apr 1\n",
      "Name: Bob, Bday: Dec 12\n",
      "Name: Carol, Bday: Mar4\n"
     ]
    }
   ],
   "source": [
    "for k, v in birthdays.items():\n",
    "    print('Name: ' + k + ', Bday: ' + v)"
   ]
  },
  {
   "cell_type": "code",
   "execution_count": 5,
   "metadata": {},
   "outputs": [
    {
     "name": "stdout",
     "output_type": "stream",
     "text": [
      "True\n",
      "False\n",
      "True\n",
      "False\n",
      "True\n"
     ]
    }
   ],
   "source": [
    "spam = {'name': 'Zombie', 'age': 7}\n",
    "print('Zombie' in spam.values())\n",
    "print('color' in spam.keys())\n",
    "print('color' not in spam.keys())\n",
    "print('color' in spam)\n",
    "print('age' in spam)"
   ]
  },
  {
   "cell_type": "code",
   "execution_count": 6,
   "metadata": {},
   "outputs": [
    {
     "data": {
      "text/plain": [
       "0"
      ]
     },
     "execution_count": 6,
     "metadata": {},
     "output_type": "execute_result"
    }
   ],
   "source": [
    "# get(key, fallback value if key does not exist)\n",
    "birthdays.get('John', 0) # means 'John does not exists'\n",
    "# without get accessing a non existent key will raise KeyError"
   ]
  },
  {
   "cell_type": "code",
   "execution_count": 7,
   "metadata": {},
   "outputs": [
    {
     "name": "stdout",
     "output_type": "stream",
     "text": [
      "black\n",
      "black\n",
      "{'name': 'Pooka', 'age': 5, 'color': 'black'}\n"
     ]
    }
   ],
   "source": [
    "# setdefault\n",
    "\n",
    "spam = {'name': 'Pooka', 'age': 5}\n",
    "print(spam.setdefault('color', 'black')) # if key doesb'y exists, return given value\n",
    "print(spam.setdefault('color', 'white')) # if key exists, return its value\n",
    "print(spam)"
   ]
  },
  {
   "cell_type": "code",
   "execution_count": 8,
   "metadata": {},
   "outputs": [],
   "source": [
    "# program to count characters frequency\n",
    "\n",
    "msg = 'It was a bright cold day in april, and the clocks were striking thirteen'\n",
    "count = {}\n",
    "for ch in msg:\n",
    "    count.setdefault(ch, 0)\n",
    "    count[ch] += 1"
   ]
  },
  {
   "cell_type": "code",
   "execution_count": 9,
   "metadata": {},
   "outputs": [
    {
     "name": "stdout",
     "output_type": "stream",
     "text": [
      "<class 'str'>\n",
      "{\n",
      "  \"I\": 1,\n",
      "  \"t\": 6,\n",
      "  \" \": 13,\n",
      "  \"w\": 2,\n",
      "  \"a\": 5,\n",
      "  \"s\": 3,\n",
      "  \"b\": 1,\n",
      "  \"r\": 5,\n",
      "  \"i\": 6,\n",
      "  \"g\": 2,\n",
      "  \"h\": 3,\n",
      "  \"c\": 3,\n",
      "  \"o\": 2,\n",
      "  \"l\": 3,\n",
      "  \"d\": 3,\n",
      "  \"y\": 1,\n",
      "  \"n\": 4,\n",
      "  \"p\": 1,\n",
      "  \",\": 1,\n",
      "  \"e\": 5,\n",
      "  \"k\": 2\n",
      "}\n"
     ]
    }
   ],
   "source": [
    "import json\n",
    "print(type(json.dumps(count, indent=2)))\n",
    "print(json.dumps(count, indent=2)) # pretty printing"
   ]
  },
  {
   "cell_type": "code",
   "execution_count": 10,
   "metadata": {},
   "outputs": [],
   "source": [
    "import pprint"
   ]
  },
  {
   "cell_type": "code",
   "execution_count": 11,
   "metadata": {},
   "outputs": [
    {
     "name": "stdout",
     "output_type": "stream",
     "text": [
      "{' ': 13,\n",
      " ',': 1,\n",
      " 'I': 1,\n",
      " 'a': 5,\n",
      " 'b': 1,\n",
      " 'c': 3,\n",
      " 'd': 3,\n",
      " 'e': 5,\n",
      " 'g': 2,\n",
      " 'h': 3,\n",
      " 'i': 6,\n",
      " 'k': 2,\n",
      " 'l': 3,\n",
      " 'n': 4,\n",
      " 'o': 2,\n",
      " 'p': 1,\n",
      " 'r': 5,\n",
      " 's': 3,\n",
      " 't': 6,\n",
      " 'w': 2,\n",
      " 'y': 1}\n"
     ]
    }
   ],
   "source": [
    "pprint.pprint(count)"
   ]
  },
  {
   "cell_type": "code",
   "execution_count": 12,
   "metadata": {},
   "outputs": [
    {
     "data": {
      "text/plain": [
       "\"{' ': 13,\\n ',': 1,\\n 'I': 1,\\n 'a': 5,\\n 'b': 1,\\n 'c': 3,\\n 'd': 3,\\n 'e': 5,\\n 'g': 2,\\n 'h': 3,\\n 'i': 6,\\n 'k': 2,\\n 'l': 3,\\n 'n': 4,\\n 'o': 2,\\n 'p': 1,\\n 'r': 5,\\n 's': 3,\\n 't': 6,\\n 'w': 2,\\n 'y': 1}\""
      ]
     },
     "execution_count": 12,
     "metadata": {},
     "output_type": "execute_result"
    }
   ],
   "source": [
    "string = pprint.pformat(count)\n",
    "string"
   ]
  },
  {
   "cell_type": "code",
   "execution_count": 13,
   "metadata": {},
   "outputs": [
    {
     "name": "stdout",
     "output_type": "stream",
     "text": [
      "{' ': 13,\n",
      " ',': 1,\n",
      " 'I': 1,\n",
      " 'a': 5,\n",
      " 'b': 1,\n",
      " 'c': 3,\n",
      " 'd': 3,\n",
      " 'e': 5,\n",
      " 'g': 2,\n",
      " 'h': 3,\n",
      " 'i': 6,\n",
      " 'k': 2,\n",
      " 'l': 3,\n",
      " 'n': 4,\n",
      " 'o': 2,\n",
      " 'p': 1,\n",
      " 'r': 5,\n",
      " 's': 3,\n",
      " 't': 6,\n",
      " 'w': 2,\n",
      " 'y': 1}\n"
     ]
    }
   ],
   "source": [
    "print(string)"
   ]
  },
  {
   "cell_type": "markdown",
   "metadata": {},
   "source": [
    "# random"
   ]
  },
  {
   "cell_type": "code",
   "execution_count": 14,
   "metadata": {},
   "outputs": [
    {
     "name": "stdout",
     "output_type": "stream",
     "text": [
      "49"
     ]
    }
   ],
   "source": [
    "from time import sleep\n",
    "import sys\n",
    "\n",
    "for i in range(100):\n",
    "    if i == 50:\n",
    "        #sys.exit()\n",
    "        break \n",
    "    \n",
    "    print(f\"\\r{i}\", end='', flush=True)\n",
    "    sleep(0.5)\n"
   ]
  },
  {
   "cell_type": "markdown",
   "metadata": {},
   "source": [
    "# Reading and Writing Files"
   ]
  },
  {
   "cell_type": "markdown",
   "metadata": {},
   "source": [
    "### Files and File path"
   ]
  },
  {
   "cell_type": "code",
   "execution_count": 15,
   "metadata": {},
   "outputs": [],
   "source": [
    "import os"
   ]
  },
  {
   "cell_type": "code",
   "execution_count": 16,
   "metadata": {},
   "outputs": [
    {
     "data": {
      "text/plain": [
       "'usr\\\\bin\\\\spam'"
      ]
     },
     "execution_count": 16,
     "metadata": {},
     "output_type": "execute_result"
    }
   ],
   "source": [
    "os.path.join('usr', 'bin', 'spam')"
   ]
  },
  {
   "cell_type": "code",
   "execution_count": 17,
   "metadata": {},
   "outputs": [
    {
     "name": "stdout",
     "output_type": "stream",
     "text": [
      "c:\\users\\vk accounts.txt\n",
      "c:\\users\\vk details.csv\n",
      "c:\\users\\vk invite.docx\n"
     ]
    }
   ],
   "source": [
    "myFiles = ['accounts.txt', 'details.csv', 'invite.docx']\n",
    "for filename in myFiles:\n",
    "    print(os.path.join('c:\\\\users\\\\vk'), filename) # '\\' -> windows, '/' -> linux or OS X"
   ]
  },
  {
   "cell_type": "code",
   "execution_count": 18,
   "metadata": {},
   "outputs": [
    {
     "name": "stdout",
     "output_type": "stream",
     "text": [
      "C:\\Users\\vk\\Desktop\\Python Projects\\blogs-notebooks\\dict-json-apis\n"
     ]
    }
   ],
   "source": [
    "# current working directory\n",
    "print(os.getcwd())"
   ]
  },
  {
   "cell_type": "code",
   "execution_count": 19,
   "metadata": {},
   "outputs": [
    {
     "name": "stdout",
     "output_type": "stream",
     "text": [
      "None\n",
      "C:\\Users\\vk\\Desktop\\Python Projects\n"
     ]
    }
   ],
   "source": [
    "print(os.chdir('../..'))\n",
    "print(os.getcwd())"
   ]
  },
  {
   "cell_type": "code",
   "execution_count": 20,
   "metadata": {},
   "outputs": [],
   "source": [
    "# make new folders\n",
    "# os.makedirs(os.getcwd() + \"\\\\random\")"
   ]
  },
  {
   "cell_type": "code",
   "execution_count": 21,
   "metadata": {},
   "outputs": [
    {
     "data": {
      "text/plain": [
       "'C:\\\\Users\\\\vk\\\\Desktop\\\\Python Projects'"
      ]
     },
     "execution_count": 21,
     "metadata": {},
     "output_type": "execute_result"
    }
   ],
   "source": [
    "# abs and rel paths\n",
    "os.path.abspath('.')"
   ]
  },
  {
   "cell_type": "code",
   "execution_count": 22,
   "metadata": {},
   "outputs": [
    {
     "data": {
      "text/plain": [
       "'C:\\\\Users\\\\vk\\\\Desktop\\\\Python Projects\\\\random'"
      ]
     },
     "execution_count": 22,
     "metadata": {},
     "output_type": "execute_result"
    }
   ],
   "source": [
    "os.path.abspath('.\\\\random')"
   ]
  },
  {
   "cell_type": "code",
   "execution_count": 23,
   "metadata": {},
   "outputs": [
    {
     "data": {
      "text/plain": [
       "False"
      ]
     },
     "execution_count": 23,
     "metadata": {},
     "output_type": "execute_result"
    }
   ],
   "source": [
    "os.path.isabs('.')"
   ]
  },
  {
   "cell_type": "code",
   "execution_count": 24,
   "metadata": {},
   "outputs": [
    {
     "data": {
      "text/plain": [
       "True"
      ]
     },
     "execution_count": 24,
     "metadata": {},
     "output_type": "execute_result"
    }
   ],
   "source": [
    "os.path.isabs(os.path.abspath('.'))"
   ]
  },
  {
   "cell_type": "code",
   "execution_count": 25,
   "metadata": {},
   "outputs": [
    {
     "data": {
      "text/plain": [
       "'Desktop\\\\Python Projects\\\\random'"
      ]
     },
     "execution_count": 25,
     "metadata": {},
     "output_type": "execute_result"
    }
   ],
   "source": [
    "os.path.relpath('C:\\\\Users\\\\vk\\\\Desktop\\\\Python Projects\\\\random', 'C:\\\\Users\\\\vk') "
   ]
  },
  {
   "cell_type": "code",
   "execution_count": 26,
   "metadata": {},
   "outputs": [
    {
     "data": {
      "text/plain": [
       "'random'"
      ]
     },
     "execution_count": 26,
     "metadata": {},
     "output_type": "execute_result"
    }
   ],
   "source": [
    "os.path.basename('C:\\\\Users\\\\vk\\\\Desktop\\\\Python Projects\\\\random')"
   ]
  },
  {
   "cell_type": "code",
   "execution_count": 27,
   "metadata": {},
   "outputs": [
    {
     "data": {
      "text/plain": [
       "'C:\\\\Users\\\\vk\\\\Desktop\\\\Python Projects'"
      ]
     },
     "execution_count": 27,
     "metadata": {},
     "output_type": "execute_result"
    }
   ],
   "source": [
    "os.path.dirname('C:\\\\Users\\\\vk\\\\Desktop\\\\Python Projects\\\\random')"
   ]
  },
  {
   "cell_type": "code",
   "execution_count": 28,
   "metadata": {},
   "outputs": [
    {
     "data": {
      "text/plain": [
       "('C:\\\\Windows\\\\System32', 'calc.exe')"
      ]
     },
     "execution_count": 28,
     "metadata": {},
     "output_type": "execute_result"
    }
   ],
   "source": [
    "calcFilePath = 'C:\\\\Windows\\\\System32\\\\calc.exe'\n",
    "os.path.split(calcFilePath)"
   ]
  },
  {
   "cell_type": "code",
   "execution_count": 29,
   "metadata": {},
   "outputs": [
    {
     "data": {
      "text/plain": [
       "('C:\\\\Windows\\\\System32', 'calc.exe')"
      ]
     },
     "execution_count": 29,
     "metadata": {},
     "output_type": "execute_result"
    }
   ],
   "source": [
    "(os.path.dirname(calcFilePath), os.path.basename(calcFilePath))"
   ]
  },
  {
   "cell_type": "code",
   "execution_count": 30,
   "metadata": {},
   "outputs": [
    {
     "name": "stdout",
     "output_type": "stream",
     "text": [
      "['C:\\\\Windows\\\\System32\\\\calc.exe']\n"
     ]
    }
   ],
   "source": [
    "temp = calcFilePath.split()\n",
    "print(temp)"
   ]
  },
  {
   "cell_type": "code",
   "execution_count": 31,
   "metadata": {},
   "outputs": [
    {
     "data": {
      "text/plain": [
       "'\\\\'"
      ]
     },
     "execution_count": 31,
     "metadata": {},
     "output_type": "execute_result"
    }
   ],
   "source": [
    "os.path.sep"
   ]
  },
  {
   "cell_type": "code",
   "execution_count": 32,
   "metadata": {},
   "outputs": [
    {
     "name": "stdout",
     "output_type": "stream",
     "text": [
      "['C:', 'Windows', 'System32', 'calc.exe']\n"
     ]
    }
   ],
   "source": [
    "temp = calcFilePath.split(os.path.sep)\n",
    "print(temp)"
   ]
  },
  {
   "cell_type": "code",
   "execution_count": 33,
   "metadata": {},
   "outputs": [
    {
     "data": {
      "text/plain": [
       "27648"
      ]
     },
     "execution_count": 33,
     "metadata": {},
     "output_type": "execute_result"
    }
   ],
   "source": [
    "# return size in bytes of the file in path\n",
    "os.path.getsize(calcFilePath)"
   ]
  },
  {
   "cell_type": "code",
   "execution_count": 34,
   "metadata": {},
   "outputs": [
    {
     "data": {
      "text/plain": [
       "['blogs-notebooks', 'random', 'rss_parser.py', 'venv']"
      ]
     },
     "execution_count": 34,
     "metadata": {},
     "output_type": "execute_result"
    }
   ],
   "source": [
    "# return list of filename strings\n",
    "os.listdir('.')"
   ]
  },
  {
   "cell_type": "code",
   "execution_count": 35,
   "metadata": {},
   "outputs": [
    {
     "name": "stdout",
     "output_type": "stream",
     "text": [
      "Total size is 2.1122936783358455 GB\n"
     ]
    }
   ],
   "source": [
    "totalSize = 0\n",
    "for filename in os.listdir('C:\\\\Windows\\\\System32'):\n",
    "    filepath = os.path.join(\"C:\\\\Windows\\\\System32\", filename)\n",
    "    totalSize += os.path.getsize(filepath)\n",
    "print(f\"Total size is {totalSize/(1024*1024*1024)} GB\")"
   ]
  },
  {
   "cell_type": "code",
   "execution_count": 36,
   "metadata": {},
   "outputs": [
    {
     "data": {
      "text/plain": [
       "True"
      ]
     },
     "execution_count": 36,
     "metadata": {},
     "output_type": "execute_result"
    }
   ],
   "source": [
    "# checking path validity\n",
    "os.path.exists('C:\\\\Windows\\\\System32')"
   ]
  },
  {
   "cell_type": "code",
   "execution_count": 37,
   "metadata": {},
   "outputs": [
    {
     "data": {
      "text/plain": [
       "True"
      ]
     },
     "execution_count": 37,
     "metadata": {},
     "output_type": "execute_result"
    }
   ],
   "source": [
    "os.path.isdir('C:\\\\Windows\\\\System32')"
   ]
  },
  {
   "cell_type": "code",
   "execution_count": 38,
   "metadata": {},
   "outputs": [
    {
     "data": {
      "text/plain": [
       "False"
      ]
     },
     "execution_count": 38,
     "metadata": {},
     "output_type": "execute_result"
    }
   ],
   "source": [
    "os.path.isfile(\"C:\\\\Windows\\\\System32\")"
   ]
  },
  {
   "cell_type": "markdown",
   "metadata": {},
   "source": [
    "### File Reading/Writing"
   ]
  },
  {
   "cell_type": "code",
   "execution_count": 39,
   "metadata": {},
   "outputs": [],
   "source": [
    "# open() -> return a File Object\n",
    "# read() or write() on File object\n",
    "# close the file by calling close()"
   ]
  },
  {
   "cell_type": "code",
   "execution_count": 40,
   "metadata": {},
   "outputs": [],
   "source": [
    "os.chdir('C:\\\\Users\\\\vk\\\\Desktop\\\\Python Projects\\\\blogs-notebooks\\\\dict-json-apis')"
   ]
  },
  {
   "cell_type": "code",
   "execution_count": 41,
   "metadata": {},
   "outputs": [
    {
     "data": {
      "text/plain": [
       "['.ipynb_checkpoints', 'basics.ipynb', 'files.txt', 'New folder']"
      ]
     },
     "execution_count": 41,
     "metadata": {},
     "output_type": "execute_result"
    }
   ],
   "source": [
    "os.listdir()"
   ]
  },
  {
   "cell_type": "code",
   "execution_count": 47,
   "metadata": {},
   "outputs": [
    {
     "name": "stdout",
     "output_type": "stream",
     "text": [
      "<_io.TextIOWrapper name='C:\\\\Users\\\\vk\\\\Desktop\\\\Python Projects\\\\blogs-notebooks\\\\dict-json-apis\\\\files.txt' mode='r' encoding='cp1252'>\n"
     ]
    }
   ],
   "source": [
    "sFile = open(os.path.join(os.getcwd(),'files.txt')) # reading mode by-default i.e,  open(<file>, 'r')\n",
    "print(sFile)"
   ]
  },
  {
   "cell_type": "code",
   "execution_count": 48,
   "metadata": {},
   "outputs": [
    {
     "data": {
      "text/plain": [
       "(str, 1133)"
      ]
     },
     "execution_count": 48,
     "metadata": {},
     "output_type": "execute_result"
    }
   ],
   "source": [
    "# read() -> read the entire contents of a file as a string value\n",
    "sFileContent = sFile.read()\n",
    "type(sFileContent), len(sFileContent)"
   ]
  },
  {
   "cell_type": "code",
   "execution_count": 49,
   "metadata": {},
   "outputs": [
    {
     "data": {
      "text/plain": [
       "'Technical Content Writer Internship\\nHello,\\n\\nThank you for showing your interest in working with GeeksforGeeks.\\nFor any query, kindly email on careers@geeksforgeeks.org\\n\\nTo start with the selection process for Technical Content Writing Internship:\\n\\n1. Please write two sample articles on a topic of your area of interest and submit your articles on https://contribute.geeksforgeeks.org/ \\n\\n2. If you are not sure on which topic to write, then you can choose a topic from this page\\n\\n3. You can send these articles within 12 days of filling the form and receiving the confirmation message.\\n\\n4. Please write on those topics only which are not already published on GeeksforGeeks or any other portal.\\n\\n5. Plagiarism of content from other websites/materials is highly discouraged.\\n\\n6. Please notify us through an email or by posting a comment under your article written on https://contribute.geeksforgeeks.org after writing your article. We will review and give proper feedback.\\n\\n7. If you want to suggest any articles, kindly click on the link -\\n\\nhttps://contribute.geeksforgeeks.org/request-article/request-article.php \\nEdit your response\\n'"
      ]
     },
     "execution_count": 49,
     "metadata": {},
     "output_type": "execute_result"
    }
   ],
   "source": [
    "sFileContent"
   ]
  },
  {
   "cell_type": "code",
   "execution_count": 51,
   "metadata": {},
   "outputs": [
    {
     "data": {
      "text/plain": [
       "['Technical Content Writer Internship\\n',\n",
       " 'Hello,\\n',\n",
       " '\\n',\n",
       " 'Thank you for showing your interest in working with GeeksforGeeks.\\n',\n",
       " 'For any query, kindly email on careers@geeksforgeeks.org\\n',\n",
       " '\\n',\n",
       " 'To start with the selection process for Technical Content Writing Internship:\\n',\n",
       " '\\n',\n",
       " '1. Please write two sample articles on a topic of your area of interest and submit your articles on https://contribute.geeksforgeeks.org/ \\n',\n",
       " '\\n',\n",
       " '2. If you are not sure on which topic to write, then you can choose a topic from this page\\n',\n",
       " '\\n',\n",
       " '3. You can send these articles within 12 days of filling the form and receiving the confirmation message.\\n',\n",
       " '\\n',\n",
       " '4. Please write on those topics only which are not already published on GeeksforGeeks or any other portal.\\n',\n",
       " '\\n',\n",
       " '5. Plagiarism of content from other websites/materials is highly discouraged.\\n',\n",
       " '\\n',\n",
       " '6. Please notify us through an email or by posting a comment under your article written on https://contribute.geeksforgeeks.org after writing your article. We will review and give proper feedback.\\n',\n",
       " '\\n',\n",
       " '7. If you want to suggest any articles, kindly click on the link -\\n',\n",
       " '\\n',\n",
       " 'https://contribute.geeksforgeeks.org/request-article/request-article.php \\n',\n",
       " 'Edit your response\\n']"
      ]
     },
     "execution_count": 51,
     "metadata": {},
     "output_type": "execute_result"
    }
   ],
   "source": [
    "# readLines() -> list of string values from the file, one string for each line of text\n",
    "sFile = open(os.path.join(os.getcwd(),'files.txt'))\n",
    "sFile.readlines()"
   ]
  },
  {
   "cell_type": "code",
   "execution_count": 52,
   "metadata": {},
   "outputs": [],
   "source": [
    "File = open(os.path.join(os.getcwd(),'files.txt'), 'a')"
   ]
  },
  {
   "cell_type": "code",
   "execution_count": 53,
   "metadata": {},
   "outputs": [
    {
     "data": {
      "text/plain": [
       "39"
      ]
     },
     "execution_count": 53,
     "metadata": {},
     "output_type": "execute_result"
    }
   ],
   "source": [
    "File.write(\"This line is written via a python code.\") # returns number of character written."
   ]
  },
  {
   "cell_type": "code",
   "execution_count": 55,
   "metadata": {},
   "outputs": [],
   "source": [
    "File.close()"
   ]
  },
  {
   "cell_type": "code",
   "execution_count": 56,
   "metadata": {},
   "outputs": [
    {
     "data": {
      "text/plain": [
       "['Technical Content Writer Internship\\n',\n",
       " 'Hello,\\n',\n",
       " '\\n',\n",
       " 'Thank you for showing your interest in working with GeeksforGeeks.\\n',\n",
       " 'For any query, kindly email on careers@geeksforgeeks.org\\n',\n",
       " '\\n',\n",
       " 'To start with the selection process for Technical Content Writing Internship:\\n',\n",
       " '\\n',\n",
       " '1. Please write two sample articles on a topic of your area of interest and submit your articles on https://contribute.geeksforgeeks.org/ \\n',\n",
       " '\\n',\n",
       " '2. If you are not sure on which topic to write, then you can choose a topic from this page\\n',\n",
       " '\\n',\n",
       " '3. You can send these articles within 12 days of filling the form and receiving the confirmation message.\\n',\n",
       " '\\n',\n",
       " '4. Please write on those topics only which are not already published on GeeksforGeeks or any other portal.\\n',\n",
       " '\\n',\n",
       " '5. Plagiarism of content from other websites/materials is highly discouraged.\\n',\n",
       " '\\n',\n",
       " '6. Please notify us through an email or by posting a comment under your article written on https://contribute.geeksforgeeks.org after writing your article. We will review and give proper feedback.\\n',\n",
       " '\\n',\n",
       " '7. If you want to suggest any articles, kindly click on the link -\\n',\n",
       " '\\n',\n",
       " 'https://contribute.geeksforgeeks.org/request-article/request-article.php \\n',\n",
       " 'Edit your response\\n',\n",
       " 'This line is written via a python code.']"
      ]
     },
     "execution_count": 56,
     "metadata": {},
     "output_type": "execute_result"
    }
   ],
   "source": [
    "File = open(os.path.join(os.getcwd(),'files.txt'))\n",
    "File.readlines()"
   ]
  },
  {
   "cell_type": "code",
   "execution_count": 57,
   "metadata": {},
   "outputs": [],
   "source": [
    "File.close()"
   ]
  },
  {
   "cell_type": "code",
   "execution_count": 58,
   "metadata": {},
   "outputs": [],
   "source": [
    "import pprint\n",
    "cats = [{'name': \"Zophie\", 'desc': \"chubby\"}, {'name': \"Pooka\", 'desc': \"Fluffy\"}]\n",
    "fileObj = open('myCats.py', 'w')\n",
    "fileObj.write('cats = ' + pprint.pformat(cats) + '\\n')\n",
    "fileObj.close()"
   ]
  },
  {
   "cell_type": "code",
   "execution_count": null,
   "metadata": {},
   "outputs": [],
   "source": []
  }
 ],
 "metadata": {
  "kernelspec": {
   "display_name": "Python 3",
   "language": "python",
   "name": "python3"
  },
  "language_info": {
   "codemirror_mode": {
    "name": "ipython",
    "version": 3
   },
   "file_extension": ".py",
   "mimetype": "text/x-python",
   "name": "python",
   "nbconvert_exporter": "python",
   "pygments_lexer": "ipython3",
   "version": "3.8.3"
  }
 },
 "nbformat": 4,
 "nbformat_minor": 4
}
