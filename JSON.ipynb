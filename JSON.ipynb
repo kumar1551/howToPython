{
 "cells": [
  {
   "cell_type": "markdown",
   "metadata": {},
   "source": [
    "# Introduction"
   ]
  },
  {
   "cell_type": "markdown",
   "metadata": {},
   "source": [
    "- used for Lightweight data-interchange format\n",
    "- Data Types:\n",
    "    - number\n",
    "    - string\n",
    "    - bool\n",
    "    - array\n",
    "    - Object\n",
    "    - None/ Null\n",
    "- used double qoutes around key and value\n",
    "- File type is \".json\"\n",
    "- MIME Type -  \"application/json\" "
   ]
  },
  {
   "cell_type": "code",
   "execution_count": 18,
   "metadata": {},
   "outputs": [],
   "source": [
    "# in python dicts can be used for creating json strings as both have similar format\n",
    "\n",
    "json_exp = {\n",
    "    \"name\": \"Vaibhav Kumar\",\n",
    "    \"age\": \"24\",\n",
    "    \"addr\": {\n",
    "        \"city\": \"delhi\",\n",
    "        \"country\": \"India\"\n",
    "    },\n",
    "    \"occupation\": \"engineer\"\n",
    "}\n"
   ]
  },
  {
   "cell_type": "code",
   "execution_count": 33,
   "metadata": {},
   "outputs": [],
   "source": [
    "import json\n",
    "\n",
    "json_Str = json.dumps(json_exp, indent=1, sort_keys=True) # translate a python value into a string of JSON formatted data\n"
   ]
  },
  {
   "cell_type": "code",
   "execution_count": 30,
   "metadata": {},
   "outputs": [
    {
     "name": "stdout",
     "output_type": "stream",
     "text": [
      "<class 'str'>\n"
     ]
    }
   ],
   "source": [
    "print(type(json_Str))"
   ]
  },
  {
   "cell_type": "code",
   "execution_count": 31,
   "metadata": {},
   "outputs": [
    {
     "name": "stdout",
     "output_type": "stream",
     "text": [
      "{\n",
      " \"addr\": {\n",
      "  \"city\": \"delhi\",\n",
      "  \"country\": \"India\"\n",
      " },\n",
      " \"age\": \"24\",\n",
      " \"name\": \"Vaibhav Kumar\",\n",
      " \"occupation\": \"engineer\"\n",
      "}\n"
     ]
    }
   ],
   "source": [
    "print(json_Str)"
   ]
  },
  {
   "cell_type": "code",
   "execution_count": 11,
   "metadata": {},
   "outputs": [],
   "source": [
    "json_String = '{ \"name\": \"Vaibhav Kumar\", \"age\": \"24\", \"addr\": { \"city\": \"delhi\", \"country\": \"India\"},\"occupation\": \"engineer\"}'"
   ]
  },
  {
   "cell_type": "code",
   "execution_count": 12,
   "metadata": {},
   "outputs": [],
   "source": [
    "json_data = json.loads(json_String) # return data as a python dictionary"
   ]
  },
  {
   "cell_type": "code",
   "execution_count": 13,
   "metadata": {},
   "outputs": [
    {
     "name": "stdout",
     "output_type": "stream",
     "text": [
      "<class 'dict'>\n",
      "{'name': 'Vaibhav Kumar', 'age': '24', 'addr': {'city': 'delhi', 'country': 'India'}, 'occupation': 'engineer'}\n"
     ]
    }
   ],
   "source": [
    "print(type(json_data))\n",
    "print(json_data)"
   ]
  },
  {
   "cell_type": "code",
   "execution_count": 17,
   "metadata": {},
   "outputs": [
    {
     "name": "stdout",
     "output_type": "stream",
     "text": [
      "{'addr': {'city': 'delhi', 'country': 'India'},\n",
      " 'age': '24',\n",
      " 'name': 'Vaibhav Kumar',\n",
      " 'occupation': 'engineer'}\n"
     ]
    }
   ],
   "source": [
    "from pprint import pprint\n",
    "pprint(json_data, indent=1) # pretty printing"
   ]
  },
  {
   "cell_type": "code",
   "execution_count": 23,
   "metadata": {},
   "outputs": [],
   "source": [
    "# creating a JSON file\n",
    "json_file = open('sample.json', 'w')\n",
    "json_file.write(json_Str)\n",
    "json_file.close()"
   ]
  },
  {
   "cell_type": "code",
   "execution_count": 24,
   "metadata": {},
   "outputs": [],
   "source": [
    "# loading data from json file\n",
    "\n",
    "jsonFile = open('sample.json')\n",
    "jsonData =jsonFile.read()\n",
    "jsonFile.close()"
   ]
  },
  {
   "cell_type": "code",
   "execution_count": 25,
   "metadata": {},
   "outputs": [
    {
     "name": "stdout",
     "output_type": "stream",
     "text": [
      "<class 'str'>\n"
     ]
    }
   ],
   "source": [
    "print(type(jsonData))"
   ]
  },
  {
   "cell_type": "code",
   "execution_count": 26,
   "metadata": {},
   "outputs": [
    {
     "name": "stdout",
     "output_type": "stream",
     "text": [
      "{\"name\": \"Vaibhav Kumar\", \"age\": \"24\", \"addr\": {\"city\": \"delhi\", \"country\": \"India\"}, \"occupation\": \"engineer\"}\n"
     ]
    }
   ],
   "source": [
    "print(jsonData)"
   ]
  },
  {
   "cell_type": "code",
   "execution_count": 27,
   "metadata": {},
   "outputs": [
    {
     "name": "stdout",
     "output_type": "stream",
     "text": [
      "<class 'dict'>\n",
      "{'name': 'Vaibhav Kumar', 'age': '24', 'addr': {'city': 'delhi', 'country': 'India'}, 'occupation': 'engineer'}\n"
     ]
    }
   ],
   "source": [
    "JsonData = json.loads(jsonData) # ONCE we've loaded data as a python dictionary working with them is very easy\n",
    "print(type(JsonData))\n",
    "print(JsonData)"
   ]
  },
  {
   "cell_type": "markdown",
   "metadata": {},
   "source": [
    "# Currency Converter"
   ]
  },
  {
   "cell_type": "code",
   "execution_count": 46,
   "metadata": {},
   "outputs": [],
   "source": [
    "import json\n",
    "import requests"
   ]
  },
  {
   "cell_type": "code",
   "execution_count": 47,
   "metadata": {},
   "outputs": [],
   "source": [
    "ACCESS_KEY = \"182cb9aa103163f084463e456bf1aea2\"\n",
    "url = f\"http://api.currencylayer.com/live?access_key={ACCESS_KEY}\"\n",
    "\n",
    "with requests.get(url) as response:\n",
    "    source = response.text"
   ]
  },
  {
   "cell_type": "code",
   "execution_count": 50,
   "metadata": {},
   "outputs": [
    {
     "name": "stdout",
     "output_type": "stream",
     "text": [
      "<class 'str'>\n"
     ]
    }
   ],
   "source": [
    "print(type(source))"
   ]
  },
  {
   "cell_type": "code",
   "execution_count": 55,
   "metadata": {},
   "outputs": [],
   "source": [
    "data = json.loads(source)"
   ]
  },
  {
   "cell_type": "code",
   "execution_count": 59,
   "metadata": {},
   "outputs": [
    {
     "name": "stdout",
     "output_type": "stream",
     "text": [
      "<class 'dict'>\n",
      "dict_keys(['success', 'terms', 'privacy', 'timestamp', 'source', 'quotes'])\n"
     ]
    }
   ],
   "source": [
    "print(type(data))\n",
    "print(data.keys())"
   ]
  },
  {
   "cell_type": "code",
   "execution_count": 60,
   "metadata": {},
   "outputs": [],
   "source": [
    "url2 = f\"http://api.currencylayer.com/list?access_key={ACCESS_KEY}\"\n",
    "with requests.get(url2) as res:\n",
    "    data2 = json.loads(res.text)"
   ]
  },
  {
   "cell_type": "code",
   "execution_count": 62,
   "metadata": {},
   "outputs": [
    {
     "name": "stdout",
     "output_type": "stream",
     "text": [
      "dict_keys(['success', 'terms', 'privacy', 'currencies'])\n"
     ]
    }
   ],
   "source": [
    "print(data2.keys())"
   ]
  },
  {
   "cell_type": "code",
   "execution_count": 63,
   "metadata": {},
   "outputs": [],
   "source": [
    "currencies = data2['currencies']"
   ]
  },
  {
   "cell_type": "code",
   "execution_count": 130,
   "metadata": {},
   "outputs": [
    {
     "data": {
      "text/plain": [
       "True"
      ]
     },
     "execution_count": 130,
     "metadata": {},
     "output_type": "execute_result"
    }
   ],
   "source": [
    "\"PKR\" in currencies"
   ]
  },
  {
   "cell_type": "code",
   "execution_count": 69,
   "metadata": {},
   "outputs": [],
   "source": [
    "quotes = data['quotes']"
   ]
  },
  {
   "cell_type": "code",
   "execution_count": 70,
   "metadata": {},
   "outputs": [
    {
     "data": {
      "text/plain": [
       "73.09225"
      ]
     },
     "execution_count": 70,
     "metadata": {},
     "output_type": "execute_result"
    }
   ],
   "source": [
    "quotes['USD'+'INR'] # 1 USD = <value> INR"
   ]
  },
  {
   "cell_type": "code",
   "execution_count": 75,
   "metadata": {},
   "outputs": [],
   "source": [
    "C1 = \"USD\"\n",
    "C2 = \"INR\"\n",
    "amt = 100\n",
    "\n",
    "url3 = f\"http://api.currencylayer.com/convert?access_key={ACCESS_KEY}&from={C1}&to={C2}&amount={amt}\"\n",
    "res = requests.get(url3)"
   ]
  },
  {
   "cell_type": "code",
   "execution_count": 76,
   "metadata": {},
   "outputs": [
    {
     "name": "stdout",
     "output_type": "stream",
     "text": [
      "<Response [200]>\n"
     ]
    }
   ],
   "source": [
    "print(res)"
   ]
  },
  {
   "cell_type": "code",
   "execution_count": 77,
   "metadata": {},
   "outputs": [
    {
     "data": {
      "text/plain": [
       "False"
      ]
     },
     "execution_count": 77,
     "metadata": {},
     "output_type": "execute_result"
    }
   ],
   "source": [
    "res.content == res.text"
   ]
  },
  {
   "cell_type": "code",
   "execution_count": 78,
   "metadata": {},
   "outputs": [
    {
     "data": {
      "text/plain": [
       "b'{\"success\":false,\"error\":{\"code\":105,\"info\":\"Access Restricted - Your current Subscription Plan does not support this API Function.\"}}'"
      ]
     },
     "execution_count": 78,
     "metadata": {},
     "output_type": "execute_result"
    }
   ],
   "source": [
    "res.content"
   ]
  },
  {
   "cell_type": "code",
   "execution_count": 79,
   "metadata": {},
   "outputs": [
    {
     "data": {
      "text/plain": [
       "'{\"success\":false,\"error\":{\"code\":105,\"info\":\"Access Restricted - Your current Subscription Plan does not support this API Function.\"}}'"
      ]
     },
     "execution_count": 79,
     "metadata": {},
     "output_type": "execute_result"
    }
   ],
   "source": [
    "res.text"
   ]
  },
  {
   "cell_type": "code",
   "execution_count": 117,
   "metadata": {},
   "outputs": [],
   "source": [
    "url4 = \"http://api.currencylayer.com/live?access_key=182cb9aa103163f084463e456bf1aea2&currencies=EUR,GBP,CAD,PLN,INR&source=USD&format=1\""
   ]
  },
  {
   "cell_type": "code",
   "execution_count": 118,
   "metadata": {},
   "outputs": [],
   "source": [
    "res = requests.get(url4)"
   ]
  },
  {
   "cell_type": "code",
   "execution_count": 119,
   "metadata": {},
   "outputs": [
    {
     "data": {
      "text/plain": [
       "False"
      ]
     },
     "execution_count": 119,
     "metadata": {},
     "output_type": "execute_result"
    }
   ],
   "source": [
    "res.content == res.text"
   ]
  },
  {
   "cell_type": "code",
   "execution_count": 120,
   "metadata": {},
   "outputs": [
    {
     "data": {
      "text/plain": [
       "b'{\\n  \"success\":true,\\n  \"terms\":\"https:\\\\/\\\\/currencylayer.com\\\\/terms\",\\n  \"privacy\":\"https:\\\\/\\\\/currencylayer.com\\\\/privacy\",\\n  \"timestamp\":1609680786,\\n  \"source\":\"USD\",\\n  \"quotes\":{\\n    \"USDEUR\":0.824063,\\n    \"USDGBP\":0.731368,\\n    \"USDCAD\":1.27395,\\n    \"USDPLN\":3.75377,\\n    \"USDINR\":73.09225\\n  }\\n}'"
      ]
     },
     "execution_count": 120,
     "metadata": {},
     "output_type": "execute_result"
    }
   ],
   "source": [
    "res.content"
   ]
  },
  {
   "cell_type": "code",
   "execution_count": 121,
   "metadata": {},
   "outputs": [],
   "source": [
    "data = json.loads(res.text)"
   ]
  },
  {
   "cell_type": "code",
   "execution_count": 122,
   "metadata": {},
   "outputs": [
    {
     "data": {
      "text/plain": [
       "{'success': True,\n",
       " 'terms': 'https://currencylayer.com/terms',\n",
       " 'privacy': 'https://currencylayer.com/privacy',\n",
       " 'timestamp': 1609680786,\n",
       " 'source': 'USD',\n",
       " 'quotes': {'USDEUR': 0.824063,\n",
       "  'USDGBP': 0.731368,\n",
       "  'USDCAD': 1.27395,\n",
       "  'USDPLN': 3.75377,\n",
       "  'USDINR': 73.09225}}"
      ]
     },
     "execution_count": 122,
     "metadata": {},
     "output_type": "execute_result"
    }
   ],
   "source": [
    "data"
   ]
  },
  {
   "cell_type": "code",
   "execution_count": 125,
   "metadata": {},
   "outputs": [
    {
     "name": "stdout",
     "output_type": "stream",
     "text": [
      "Euro\n",
      "British Pound Sterling\n",
      "Canadian Dollar\n",
      "Polish Zloty\n",
      "Indian Rupee\n"
     ]
    }
   ],
   "source": [
    "cs = ['EUR', 'GBP', 'CAD', 'PLN', 'INR']\n",
    "for c in cs:\n",
    "    print(currencies[c])"
   ]
  },
  {
   "cell_type": "code",
   "execution_count": 150,
   "metadata": {},
   "outputs": [],
   "source": [
    "class CurrencyConverter:\n",
    "    \n",
    "    # https://currencylayer.com/documentation\n",
    "    quotes = dict()\n",
    "    currencies = dict()\n",
    "    \n",
    "    def __init__(self, access_key=None):\n",
    "        self.access_key = access_key\n",
    "        CurrencyConverter.quotes = json.loads((requests.get(f\"http://api.currencylayer.com/live?access_key={self.access_key}\").text))['quotes']\n",
    "        CurrencyConverter.currencies = json.loads((requests.get(f\"http://api.currencylayer.com/list?access_key={self.access_key}\").text))['currencies']\n",
    "    \n",
    "    def convert(self, C1=\"USD\", C2=\"INR\", amount=1):\n",
    "        C1 = 'USD' + C1\n",
    "        C2 = 'USD' + C2\n",
    "        rate = CurrencyConverter.quotes[C2] / CurrencyConverter.quotes[C1]\n",
    "        return {'rate': rate, 'amount': rate*amount}"
   ]
  },
  {
   "cell_type": "code",
   "execution_count": 151,
   "metadata": {},
   "outputs": [],
   "source": [
    "converter = CurrencyConverter(access_key = \"182cb9aa103163f084463e456bf1aea2\")"
   ]
  },
  {
   "cell_type": "code",
   "execution_count": 152,
   "metadata": {},
   "outputs": [
    {
     "data": {
      "text/plain": [
       "{'rate': 0.013681341045049235, 'amount': 1.3681341045049236}"
      ]
     },
     "execution_count": 152,
     "metadata": {},
     "output_type": "execute_result"
    }
   ],
   "source": [
    "converter.convert(C1=\"INR\", C2=\"USD\", amount=100)"
   ]
  },
  {
   "cell_type": "code",
   "execution_count": null,
   "metadata": {},
   "outputs": [],
   "source": []
  },
  {
   "cell_type": "code",
   "execution_count": null,
   "metadata": {},
   "outputs": [],
   "source": []
  }
 ],
 "metadata": {
  "kernelspec": {
   "display_name": "Python 3",
   "language": "python",
   "name": "python3"
  },
  "language_info": {
   "codemirror_mode": {
    "name": "ipython",
    "version": 3
   },
   "file_extension": ".py",
   "mimetype": "text/x-python",
   "name": "python",
   "nbconvert_exporter": "python",
   "pygments_lexer": "ipython3",
   "version": "3.8.3"
  }
 },
 "nbformat": 4,
 "nbformat_minor": 4
}
